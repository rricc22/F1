{
 "cells": [
  {
   "cell_type": "code",
   "execution_count": 1,
   "metadata": {},
   "outputs": [
    {
     "name": "stderr",
     "output_type": "stream",
     "text": [
      "2025-02-21 11:17:51.749677: I tensorflow/tsl/cuda/cudart_stub.cc:28] Could not find cuda drivers on your machine, GPU will not be used.\n",
      "2025-02-21 11:17:51.804390: I tensorflow/tsl/cuda/cudart_stub.cc:28] Could not find cuda drivers on your machine, GPU will not be used.\n",
      "2025-02-21 11:17:51.805435: I tensorflow/core/platform/cpu_feature_guard.cc:182] This TensorFlow binary is optimized to use available CPU instructions in performance-critical operations.\n",
      "To enable the following instructions: AVX2 FMA, in other operations, rebuild TensorFlow with the appropriate compiler flags.\n",
      "2025-02-21 11:17:52.881581: W tensorflow/compiler/tf2tensorrt/utils/py_utils.cc:38] TF-TRT Warning: Could not find TensorRT\n"
     ]
    }
   ],
   "source": [
    "import pandas as pd\n",
    "import numpy as np\n",
    "import fastf1\n",
    "import matplotlib.pyplot as plt\n",
    "import tensorflow as tf\n",
    "from sklearn.model_selection import train_test_split\n",
    "from sklearn.preprocessing import StandardScaler, LabelEncoder"
   ]
  },
  {
   "cell_type": "markdown",
   "metadata": {},
   "source": [
    "# Prep dataset"
   ]
  },
  {
   "cell_type": "code",
   "execution_count": null,
   "metadata": {},
   "outputs": [],
   "source": [
    "df = pd.read_csv('/home/riccardo/Documents/F1/dataset/dataset_best_driver.csv')\n",
    "# df = pd.read_csv('/home/riccardo/Visual_Studio_Code/F1/dataset/dataset_best_driver.csv')\n",
    "\n",
    "df = df.drop('Unnamed: 0',axis=1)\n",
    "\n",
    "from sklearn.preprocessing import LabelEncoder"
   ]
  },
  {
   "cell_type": "code",
   "execution_count": 23,
   "metadata": {},
   "outputs": [
    {
     "data": {
      "text/plain": [
       "22"
      ]
     },
     "execution_count": 23,
     "metadata": {},
     "output_type": "execute_result"
    }
   ],
   "source": [
    "df['Grand Prix'].nunique()"
   ]
  },
  {
   "cell_type": "code",
   "execution_count": null,
   "metadata": {},
   "outputs": [
    {
     "data": {
      "text/plain": [
       "((1100, 6), (1100, 1))"
      ]
     },
     "execution_count": 11,
     "metadata": {},
     "output_type": "execute_result"
    }
   ],
   "source": [
    "# Filtrer pour un Grand Prix spécifique, par exemple : Bahrain Grand Prix\n",
    "# grand_prix_name = \"Bahrain Grand Prix\"\n",
    "# df_gp = df[df['Grand Prix'] == grand_prix_name].reset_index(drop=True)\n",
    "\n",
    "# Encoder les noms des Grands Prix en numéros uniques\n",
    "gp_encoder = LabelEncoder()\n",
    "df['Grand Prix'] = gp_encoder.fit_transform(df['Grand Prix'])\n",
    "# Vérifier l'encodage\n",
    "print(dict(zip(gp_encoder.classes_, gp_encoder.transform(gp_encoder.classes_))))"
   ]
  },
  {
   "cell_type": "code",
   "execution_count": 24,
   "metadata": {},
   "outputs": [
    {
     "data": {
      "text/plain": [
       "((1100, 6), (1100, 1))"
      ]
     },
     "execution_count": 24,
     "metadata": {},
     "output_type": "execute_result"
    }
   ],
   "source": [
    "# Vérifier s'il y a 50 sections pour le circuit\n",
    "df_gp_50 = df\n",
    "\n",
    "# Préparer l'entrée (X, Y, Angle, Straight_Line, Speed) et la sortie (Best_Driver)\n",
    "input_features = df_gp_50[['X', 'Y', 'Angle', 'Straight_Line','Grand Prix','Speed']].fillna(0) \n",
    "output_best_driver = df_gp_50[['Best_Driver']]\n",
    "\n",
    "# Vérifier les dimensions des données d'entrée et de sortie\n",
    "input_features.shape, output_best_driver.shape\n"
   ]
  },
  {
   "cell_type": "code",
   "execution_count": 25,
   "metadata": {},
   "outputs": [],
   "source": [
    "from sklearn.preprocessing import StandardScaler, LabelEncoder\n",
    "from tensorflow.keras.models import Sequential\n",
    "from tensorflow.keras.layers import LSTM, Dense\n",
    "from tensorflow.keras.callbacks import EarlyStopping\n",
    "import matplotlib.pyplot as plt\n",
    "import numpy as np\n",
    "\n",
    "# Normaliser les données d'entrée\n",
    "scaler = StandardScaler()\n",
    "input_features_scaled = scaler.fit_transform(input_features)\n",
    "\n",
    "# Encoder les pilotes\n",
    "label_encoder = LabelEncoder()\n",
    "output_best_driver_encoded = label_encoder.fit_transform(output_best_driver.values.flatten())\n"
   ]
  },
  {
   "cell_type": "code",
   "execution_count": 29,
   "metadata": {},
   "outputs": [
    {
     "ename": "ValueError",
     "evalue": "Input 0 of layer \"lstm_4\" is incompatible with the layer: expected ndim=3, found ndim=4. Full shape received: (None, 22, 50, 6)",
     "output_type": "error",
     "traceback": [
      "\u001b[0;31m---------------------------------------------------------------------------\u001b[0m",
      "\u001b[0;31mValueError\u001b[0m                                Traceback (most recent call last)",
      "Cell \u001b[0;32mIn[29], line 7\u001b[0m\n\u001b[1;32m      5\u001b[0m \u001b[38;5;66;03m# Définir le modèle LSTM\u001b[39;00m\n\u001b[1;32m      6\u001b[0m model \u001b[38;5;241m=\u001b[39m Sequential()\n\u001b[0;32m----> 7\u001b[0m \u001b[43mmodel\u001b[49m\u001b[38;5;241;43m.\u001b[39;49m\u001b[43madd\u001b[49m\u001b[43m(\u001b[49m\u001b[43mLSTM\u001b[49m\u001b[43m(\u001b[49m\u001b[38;5;241;43m64\u001b[39;49m\u001b[43m,\u001b[49m\u001b[43m \u001b[49m\u001b[43minput_shape\u001b[49m\u001b[38;5;241;43m=\u001b[39;49m\u001b[43m(\u001b[49m\u001b[38;5;241;43m22\u001b[39;49m\u001b[43m,\u001b[49m\u001b[38;5;241;43m50\u001b[39;49m\u001b[43m,\u001b[49m\u001b[43m \u001b[49m\u001b[38;5;241;43m6\u001b[39;49m\u001b[43m)\u001b[49m\u001b[43m,\u001b[49m\u001b[43m \u001b[49m\u001b[43mreturn_sequences\u001b[49m\u001b[38;5;241;43m=\u001b[39;49m\u001b[38;5;28;43;01mTrue\u001b[39;49;00m\u001b[43m)\u001b[49m\u001b[43m)\u001b[49m\n\u001b[1;32m      8\u001b[0m model\u001b[38;5;241m.\u001b[39madd(Dense(\u001b[38;5;28mlen\u001b[39m(label_encoder\u001b[38;5;241m.\u001b[39mclasses_), activation\u001b[38;5;241m=\u001b[39m\u001b[38;5;124m'\u001b[39m\u001b[38;5;124msoftmax\u001b[39m\u001b[38;5;124m'\u001b[39m))\n\u001b[1;32m     10\u001b[0m \u001b[38;5;66;03m# Compiler le modèle\u001b[39;00m\n",
      "File \u001b[0;32m~/.local/lib/python3.9/site-packages/tensorflow/python/trackable/base.py:204\u001b[0m, in \u001b[0;36mno_automatic_dependency_tracking.<locals>._method_wrapper\u001b[0;34m(self, *args, **kwargs)\u001b[0m\n\u001b[1;32m    202\u001b[0m \u001b[38;5;28mself\u001b[39m\u001b[38;5;241m.\u001b[39m_self_setattr_tracking \u001b[38;5;241m=\u001b[39m \u001b[38;5;28;01mFalse\u001b[39;00m  \u001b[38;5;66;03m# pylint: disable=protected-access\u001b[39;00m\n\u001b[1;32m    203\u001b[0m \u001b[38;5;28;01mtry\u001b[39;00m:\n\u001b[0;32m--> 204\u001b[0m   result \u001b[38;5;241m=\u001b[39m \u001b[43mmethod\u001b[49m\u001b[43m(\u001b[49m\u001b[38;5;28;43mself\u001b[39;49m\u001b[43m,\u001b[49m\u001b[43m \u001b[49m\u001b[38;5;241;43m*\u001b[39;49m\u001b[43margs\u001b[49m\u001b[43m,\u001b[49m\u001b[43m \u001b[49m\u001b[38;5;241;43m*\u001b[39;49m\u001b[38;5;241;43m*\u001b[39;49m\u001b[43mkwargs\u001b[49m\u001b[43m)\u001b[49m\n\u001b[1;32m    205\u001b[0m \u001b[38;5;28;01mfinally\u001b[39;00m:\n\u001b[1;32m    206\u001b[0m   \u001b[38;5;28mself\u001b[39m\u001b[38;5;241m.\u001b[39m_self_setattr_tracking \u001b[38;5;241m=\u001b[39m previous_value  \u001b[38;5;66;03m# pylint: disable=protected-access\u001b[39;00m\n",
      "File \u001b[0;32m~/.local/lib/python3.9/site-packages/keras/src/utils/traceback_utils.py:70\u001b[0m, in \u001b[0;36mfilter_traceback.<locals>.error_handler\u001b[0;34m(*args, **kwargs)\u001b[0m\n\u001b[1;32m     67\u001b[0m     filtered_tb \u001b[38;5;241m=\u001b[39m _process_traceback_frames(e\u001b[38;5;241m.\u001b[39m__traceback__)\n\u001b[1;32m     68\u001b[0m     \u001b[38;5;66;03m# To get the full stack trace, call:\u001b[39;00m\n\u001b[1;32m     69\u001b[0m     \u001b[38;5;66;03m# `tf.debugging.disable_traceback_filtering()`\u001b[39;00m\n\u001b[0;32m---> 70\u001b[0m     \u001b[38;5;28;01mraise\u001b[39;00m e\u001b[38;5;241m.\u001b[39mwith_traceback(filtered_tb) \u001b[38;5;28;01mfrom\u001b[39;00m \u001b[38;5;28;01mNone\u001b[39;00m\n\u001b[1;32m     71\u001b[0m \u001b[38;5;28;01mfinally\u001b[39;00m:\n\u001b[1;32m     72\u001b[0m     \u001b[38;5;28;01mdel\u001b[39;00m filtered_tb\n",
      "File \u001b[0;32m~/.local/lib/python3.9/site-packages/keras/src/engine/input_spec.py:235\u001b[0m, in \u001b[0;36massert_input_compatibility\u001b[0;34m(input_spec, inputs, layer_name)\u001b[0m\n\u001b[1;32m    233\u001b[0m     ndim \u001b[38;5;241m=\u001b[39m shape\u001b[38;5;241m.\u001b[39mrank\n\u001b[1;32m    234\u001b[0m     \u001b[38;5;28;01mif\u001b[39;00m ndim \u001b[38;5;241m!=\u001b[39m spec\u001b[38;5;241m.\u001b[39mndim:\n\u001b[0;32m--> 235\u001b[0m         \u001b[38;5;28;01mraise\u001b[39;00m \u001b[38;5;167;01mValueError\u001b[39;00m(\n\u001b[1;32m    236\u001b[0m             \u001b[38;5;124mf\u001b[39m\u001b[38;5;124m'\u001b[39m\u001b[38;5;124mInput \u001b[39m\u001b[38;5;132;01m{\u001b[39;00minput_index\u001b[38;5;132;01m}\u001b[39;00m\u001b[38;5;124m of layer \u001b[39m\u001b[38;5;124m\"\u001b[39m\u001b[38;5;132;01m{\u001b[39;00mlayer_name\u001b[38;5;132;01m}\u001b[39;00m\u001b[38;5;124m\"\u001b[39m\u001b[38;5;124m \u001b[39m\u001b[38;5;124m'\u001b[39m\n\u001b[1;32m    237\u001b[0m             \u001b[38;5;124m\"\u001b[39m\u001b[38;5;124mis incompatible with the layer: \u001b[39m\u001b[38;5;124m\"\u001b[39m\n\u001b[1;32m    238\u001b[0m             \u001b[38;5;124mf\u001b[39m\u001b[38;5;124m\"\u001b[39m\u001b[38;5;124mexpected ndim=\u001b[39m\u001b[38;5;132;01m{\u001b[39;00mspec\u001b[38;5;241m.\u001b[39mndim\u001b[38;5;132;01m}\u001b[39;00m\u001b[38;5;124m, found ndim=\u001b[39m\u001b[38;5;132;01m{\u001b[39;00mndim\u001b[38;5;132;01m}\u001b[39;00m\u001b[38;5;124m. \u001b[39m\u001b[38;5;124m\"\u001b[39m\n\u001b[1;32m    239\u001b[0m             \u001b[38;5;124mf\u001b[39m\u001b[38;5;124m\"\u001b[39m\u001b[38;5;124mFull shape received: \u001b[39m\u001b[38;5;132;01m{\u001b[39;00m\u001b[38;5;28mtuple\u001b[39m(shape)\u001b[38;5;132;01m}\u001b[39;00m\u001b[38;5;124m\"\u001b[39m\n\u001b[1;32m    240\u001b[0m         )\n\u001b[1;32m    241\u001b[0m \u001b[38;5;28;01mif\u001b[39;00m spec\u001b[38;5;241m.\u001b[39mmax_ndim \u001b[38;5;129;01mis\u001b[39;00m \u001b[38;5;129;01mnot\u001b[39;00m \u001b[38;5;28;01mNone\u001b[39;00m:\n\u001b[1;32m    242\u001b[0m     ndim \u001b[38;5;241m=\u001b[39m x\u001b[38;5;241m.\u001b[39mshape\u001b[38;5;241m.\u001b[39mrank\n",
      "\u001b[0;31mValueError\u001b[0m: Input 0 of layer \"lstm_4\" is incompatible with the layer: expected ndim=3, found ndim=4. Full shape received: (None, 22, 50, 6)"
     ]
    }
   ],
   "source": [
    "\n",
    "# Reshape pour correspondre au format attendu par l'LSTM\n",
    "X_data = input_features_scaled.reshape(22, 50, 6)  # 1 échantillon (le Grand Prix), 50 sections, 5 features\n",
    "y_data = output_best_driver_encoded.reshape(22, 50, 1)  # 1 échantillon, 50 sections, 1 label\n",
    "\n",
    "# Définir le modèle LSTM\n",
    "model = Sequential()\n",
    "model.add(LSTM(64, input_shape=(22,50, 6), return_sequences=True))\n",
    "model.add(Dense(len(label_encoder.classes_), activation='softmax'))\n",
    "\n",
    "# Compiler le modèle\n",
    "model.compile(loss='sparse_categorical_crossentropy', optimizer='adam', metrics=['accuracy'])\n",
    "\n",
    "# Early stopping pour éviter le surapprentissage\n",
    "early_stopping = EarlyStopping(monitor='loss', patience=5, restore_best_weights=True)\n",
    "\n",
    "# Entraîner le modèle\n",
    "model.fit(X_data, y_data, epochs=200, batch_size=1, callbacks=[early_stopping])\n"
   ]
  },
  {
   "cell_type": "code",
   "execution_count": 22,
   "metadata": {},
   "outputs": [
    {
     "name": "stdout",
     "output_type": "stream",
     "text": [
      "1/1 [==============================] - 0s 396ms/step\n"
     ]
    },
    {
     "data": {
      "image/png": "[encoded data removed]",
      "text/plain": [
       "<Figure size 640x480 with 1 Axes>"
      ]
     },
     "metadata": {},
     "output_type": "display_data"
    },
    {
     "name": "stdout",
     "output_type": "stream",
     "text": [
      "Le pilote dominant pour ce circuit est : 16\n"
     ]
    }
   ],
   "source": [
    "\n",
    "# Faire des prédictions\n",
    "y_pred = model.predict(X_data)\n",
    "y_pred_classes = y_pred.argmax(axis=-1).flatten()\n",
    "\n",
    "# Décoder les prédictions pour obtenir les noms/numéros des pilotes\n",
    "y_pred_drivers = label_encoder.inverse_transform(y_pred_classes)\n",
    "\n",
    "# Calculer la fréquence des meilleurs pilotes\n",
    "unique, counts = np.unique(y_pred_drivers, return_counts=True)\n",
    "driver_counts = dict(zip(unique, counts))\n",
    "\n",
    "# Afficher les résultats\n",
    "plt.bar(driver_counts.keys(), driver_counts.values())\n",
    "plt.xlabel('Pilotes')\n",
    "plt.ylabel('Nombre de Sections où Meilleur')\n",
    "plt.title('Fréquence des Meilleurs Pilotes par Section')\n",
    "plt.show()\n",
    "\n",
    "# Pilote dominant\n",
    "dominant_driver = max(driver_counts, key=driver_counts.get)\n",
    "print(f\"Le pilote dominant pour ce circuit est : {dominant_driver}\")\n"
   ]
  },
  {
   "cell_type": "code",
   "execution_count": 31,
   "metadata": {},
   "outputs": [
    {
     "name": "stdout",
     "output_type": "stream",
     "text": [
      "Nombre de circuits disponibles : 22\n",
      "Shape of input_features_scaled: (1100, 6)\n",
      "Shape of output_best_driver_encoded: (1100,)\n"
     ]
    }
   ],
   "source": [
    "import pandas as pd\n",
    "import numpy as np\n",
    "import matplotlib.pyplot as plt\n",
    "from sklearn.preprocessing import StandardScaler, LabelEncoder\n",
    "from tensorflow.keras.models import Sequential\n",
    "from tensorflow.keras.layers import LSTM, Dense\n",
    "from tensorflow.keras.callbacks import EarlyStopping\n",
    "\n",
    "# Charger les données\n",
    "df = pd.read_csv('/home/riccardo/Documents/F1/dataset/dataset_best_driver.csv')\n",
    "df = df.drop('Unnamed: 0', axis=1)\n",
    "\n",
    "# Encoder les noms des Grands Prix en numéros uniques\n",
    "gp_encoder = LabelEncoder()\n",
    "df['Grand Prix'] = gp_encoder.fit_transform(df['Grand Prix'])\n",
    "\n",
    "# Vérifier le nombre de circuits disponibles\n",
    "print(\"Nombre de circuits disponibles :\", df['Grand Prix'].nunique())\n",
    "\n",
    "# Sélectionner les features d'entrée et de sortie\n",
    "input_features = df[['X', 'Y', 'Angle', 'Straight_Line', 'Speed', 'Grand Prix']].fillna(0)\n",
    "output_best_driver = df[['Best_Driver']]\n",
    "\n",
    "# Normalisation des données d'entrée\n",
    "scaler = StandardScaler()\n",
    "input_features_scaled = scaler.fit_transform(input_features)\n",
    "\n",
    "# Encoder les pilotes\n",
    "label_encoder = LabelEncoder()\n",
    "output_best_driver_encoded = label_encoder.fit_transform(output_best_driver.values.flatten())\n",
    "\n",
    "# Vérifier la forme des données avant reshape\n",
    "print(\"Shape of input_features_scaled:\", input_features_scaled.shape)  # Devrait être (1100, 6)\n",
    "print(\"Shape of output_best_driver_encoded:\", output_best_driver_encoded.shape)  # Devrait être (1100,)\n",
    "\n",
    "# Reshape pour correspondre au format attendu par l'LSTM\n",
    "num_gp = df['Grand Prix'].nunique()  # Nombre total de circuits (ex : 22)\n",
    "sections_per_gp = 50  # Nombre de sections par circuit\n",
    "\n",
    "X_data = input_features_scaled.reshape(num_gp, sections_per_gp, 6)  # 22 circuits, 50 sections, 6 features\n",
    "y_data = output_best_driver_encoded.reshape(num_gp, sections_per_gp, 1)  # 22 circuits, 50 sections, 1 label\n",
    "\n"
   ]
  },
  {
   "cell_type": "code",
   "execution_count": 36,
   "metadata": {},
   "outputs": [
    {
     "name": "stdout",
     "output_type": "stream",
     "text": [
      "Epoch 1/100\n",
      "6/6 [==============================] - 2s 10ms/step - loss: 3.0960 - accuracy: 0.0291\n",
      "Epoch 2/100\n",
      "6/6 [==============================] - 0s 10ms/step - loss: 3.0656 - accuracy: 0.0436\n",
      "Epoch 3/100\n",
      "6/6 [==============================] - 0s 11ms/step - loss: 3.0432 - accuracy: 0.0709\n",
      "Epoch 4/100\n",
      "6/6 [==============================] - 0s 13ms/step - loss: 3.0233 - accuracy: 0.0909\n",
      "Epoch 5/100\n",
      "6/6 [==============================] - 0s 11ms/step - loss: 3.0011 - accuracy: 0.1145\n",
      "Epoch 6/100\n",
      "6/6 [==============================] - 0s 11ms/step - loss: 2.9827 - accuracy: 0.1236\n",
      "Epoch 7/100\n",
      "6/6 [==============================] - 0s 18ms/step - loss: 2.9615 - accuracy: 0.1300\n",
      "Epoch 8/100\n",
      "6/6 [==============================] - 0s 13ms/step - loss: 2.9403 - accuracy: 0.1400\n",
      "Epoch 9/100\n",
      "6/6 [==============================] - 0s 12ms/step - loss: 2.9189 - accuracy: 0.1400\n",
      "Epoch 10/100\n",
      "6/6 [==============================] - 0s 12ms/step - loss: 2.8962 - accuracy: 0.1464\n",
      "Epoch 11/100\n",
      "6/6 [==============================] - 0s 12ms/step - loss: 2.8715 - accuracy: 0.1509\n",
      "Epoch 12/100\n",
      "6/6 [==============================] - 0s 12ms/step - loss: 2.8478 - accuracy: 0.1536\n",
      "Epoch 13/100\n",
      "6/6 [==============================] - 0s 13ms/step - loss: 2.8266 - accuracy: 0.1564\n",
      "Epoch 14/100\n",
      "6/6 [==============================] - 0s 17ms/step - loss: 2.8042 - accuracy: 0.1691\n",
      "Epoch 15/100\n",
      "6/6 [==============================] - 0s 15ms/step - loss: 2.7805 - accuracy: 0.1809\n",
      "Epoch 16/100\n",
      "6/6 [==============================] - 0s 12ms/step - loss: 2.7606 - accuracy: 0.1882\n",
      "Epoch 17/100\n",
      "6/6 [==============================] - 0s 12ms/step - loss: 2.7417 - accuracy: 0.1873\n",
      "Epoch 18/100\n",
      "6/6 [==============================] - 0s 11ms/step - loss: 2.7254 - accuracy: 0.1936\n",
      "Epoch 19/100\n",
      "6/6 [==============================] - 0s 13ms/step - loss: 2.7051 - accuracy: 0.2009\n",
      "Epoch 20/100\n",
      "6/6 [==============================] - 0s 12ms/step - loss: 2.6854 - accuracy: 0.2027\n",
      "Epoch 21/100\n",
      "6/6 [==============================] - 0s 12ms/step - loss: 2.6650 - accuracy: 0.2045\n",
      "Epoch 22/100\n",
      "6/6 [==============================] - 0s 12ms/step - loss: 2.6477 - accuracy: 0.2118\n",
      "Epoch 23/100\n",
      "6/6 [==============================] - 0s 21ms/step - loss: 2.6320 - accuracy: 0.2164\n",
      "Epoch 24/100\n",
      "6/6 [==============================] - 0s 13ms/step - loss: 2.6168 - accuracy: 0.2309\n",
      "Epoch 25/100\n",
      "6/6 [==============================] - 0s 13ms/step - loss: 2.6067 - accuracy: 0.2300\n",
      "Epoch 26/100\n",
      "6/6 [==============================] - 0s 13ms/step - loss: 2.5829 - accuracy: 0.2364\n",
      "Epoch 27/100\n",
      "6/6 [==============================] - 0s 12ms/step - loss: 2.5641 - accuracy: 0.2373\n",
      "Epoch 28/100\n",
      "6/6 [==============================] - 0s 13ms/step - loss: 2.5481 - accuracy: 0.2336\n",
      "Epoch 29/100\n",
      "6/6 [==============================] - 0s 13ms/step - loss: 2.5377 - accuracy: 0.2409\n",
      "Epoch 30/100\n",
      "6/6 [==============================] - 0s 15ms/step - loss: 2.5201 - accuracy: 0.2309\n",
      "Epoch 31/100\n",
      "6/6 [==============================] - 0s 12ms/step - loss: 2.5040 - accuracy: 0.2482\n",
      "Epoch 32/100\n",
      "6/6 [==============================] - 0s 11ms/step - loss: 2.4844 - accuracy: 0.2509\n",
      "Epoch 33/100\n",
      "6/6 [==============================] - 0s 12ms/step - loss: 2.4700 - accuracy: 0.2609\n",
      "Epoch 34/100\n",
      "6/6 [==============================] - 0s 12ms/step - loss: 2.4559 - accuracy: 0.2573\n",
      "Epoch 35/100\n",
      "6/6 [==============================] - 0s 12ms/step - loss: 2.4385 - accuracy: 0.2791\n",
      "Epoch 36/100\n",
      "6/6 [==============================] - 0s 12ms/step - loss: 2.4231 - accuracy: 0.2836\n",
      "Epoch 37/100\n",
      "6/6 [==============================] - 0s 12ms/step - loss: 2.4130 - accuracy: 0.2718\n",
      "Epoch 38/100\n",
      "6/6 [==============================] - 0s 12ms/step - loss: 2.4122 - accuracy: 0.2900\n",
      "Epoch 39/100\n",
      "6/6 [==============================] - 0s 12ms/step - loss: 2.3944 - accuracy: 0.2773\n",
      "Epoch 40/100\n",
      "6/6 [==============================] - 0s 11ms/step - loss: 2.3942 - accuracy: 0.2791\n",
      "Epoch 41/100\n",
      "6/6 [==============================] - 0s 21ms/step - loss: 2.3703 - accuracy: 0.2827\n",
      "Epoch 42/100\n",
      "6/6 [==============================] - 0s 12ms/step - loss: 2.3544 - accuracy: 0.2927\n",
      "Epoch 43/100\n",
      "6/6 [==============================] - 0s 11ms/step - loss: 2.3391 - accuracy: 0.3091\n",
      "Epoch 44/100\n",
      "6/6 [==============================] - 0s 12ms/step - loss: 2.3213 - accuracy: 0.3018\n",
      "Epoch 45/100\n",
      "6/6 [==============================] - 0s 12ms/step - loss: 2.3087 - accuracy: 0.3091\n",
      "Epoch 46/100\n",
      "6/6 [==============================] - 0s 12ms/step - loss: 2.2978 - accuracy: 0.3218\n",
      "Epoch 47/100\n",
      "6/6 [==============================] - 0s 12ms/step - loss: 2.2891 - accuracy: 0.3245\n",
      "Epoch 48/100\n",
      "6/6 [==============================] - 0s 12ms/step - loss: 2.2894 - accuracy: 0.3200\n",
      "Epoch 49/100\n",
      "6/6 [==============================] - 0s 11ms/step - loss: 2.2698 - accuracy: 0.3264\n",
      "Epoch 50/100\n",
      "6/6 [==============================] - 0s 12ms/step - loss: 2.2571 - accuracy: 0.3300\n",
      "Epoch 51/100\n",
      "6/6 [==============================] - 0s 12ms/step - loss: 2.2410 - accuracy: 0.3327\n",
      "Epoch 52/100\n",
      "6/6 [==============================] - 0s 12ms/step - loss: 2.2283 - accuracy: 0.3400\n",
      "Epoch 53/100\n",
      "6/6 [==============================] - 0s 12ms/step - loss: 2.2187 - accuracy: 0.3518\n",
      "Epoch 54/100\n",
      "6/6 [==============================] - 0s 12ms/step - loss: 2.2233 - accuracy: 0.3482\n",
      "Epoch 55/100\n",
      "6/6 [==============================] - 0s 12ms/step - loss: 2.2176 - accuracy: 0.3500\n",
      "Epoch 56/100\n",
      "6/6 [==============================] - 0s 12ms/step - loss: 2.2121 - accuracy: 0.3518\n",
      "Epoch 57/100\n",
      "6/6 [==============================] - 0s 12ms/step - loss: 2.2080 - accuracy: 0.3491\n",
      "Epoch 58/100\n",
      "6/6 [==============================] - 0s 11ms/step - loss: 2.1864 - accuracy: 0.3473\n",
      "Epoch 59/100\n",
      "6/6 [==============================] - 0s 12ms/step - loss: 2.1683 - accuracy: 0.3564\n",
      "Epoch 60/100\n",
      "6/6 [==============================] - 0s 17ms/step - loss: 2.1602 - accuracy: 0.3573\n",
      "Epoch 61/100\n",
      "6/6 [==============================] - 0s 12ms/step - loss: 2.1518 - accuracy: 0.3582\n",
      "Epoch 62/100\n",
      "6/6 [==============================] - 0s 11ms/step - loss: 2.1386 - accuracy: 0.3673\n",
      "Epoch 63/100\n",
      "6/6 [==============================] - 0s 12ms/step - loss: 2.1251 - accuracy: 0.3691\n",
      "Epoch 64/100\n",
      "6/6 [==============================] - 0s 12ms/step - loss: 2.1077 - accuracy: 0.3764\n",
      "Epoch 65/100\n",
      "6/6 [==============================] - 0s 11ms/step - loss: 2.0937 - accuracy: 0.3882\n",
      "Epoch 66/100\n",
      "6/6 [==============================] - 0s 12ms/step - loss: 2.0814 - accuracy: 0.3873\n",
      "Epoch 67/100\n",
      "6/6 [==============================] - 0s 12ms/step - loss: 2.0701 - accuracy: 0.3891\n",
      "Epoch 68/100\n",
      "6/6 [==============================] - 0s 12ms/step - loss: 2.0615 - accuracy: 0.4018\n",
      "Epoch 69/100\n",
      "6/6 [==============================] - 0s 12ms/step - loss: 2.0497 - accuracy: 0.4000\n",
      "Epoch 70/100\n",
      "6/6 [==============================] - 0s 12ms/step - loss: 2.0448 - accuracy: 0.3964\n",
      "Epoch 71/100\n",
      "6/6 [==============================] - 0s 12ms/step - loss: 2.0423 - accuracy: 0.4027\n",
      "Epoch 72/100\n",
      "6/6 [==============================] - 0s 12ms/step - loss: 2.0427 - accuracy: 0.3991\n",
      "Epoch 73/100\n",
      "6/6 [==============================] - 0s 11ms/step - loss: 2.0401 - accuracy: 0.3900\n",
      "Epoch 74/100\n",
      "6/6 [==============================] - 0s 12ms/step - loss: 2.0329 - accuracy: 0.3982\n",
      "Epoch 75/100\n",
      "6/6 [==============================] - 0s 12ms/step - loss: 2.0331 - accuracy: 0.3909\n",
      "Epoch 76/100\n",
      "6/6 [==============================] - 0s 19ms/step - loss: 2.0168 - accuracy: 0.3927\n",
      "Epoch 77/100\n",
      "6/6 [==============================] - 0s 12ms/step - loss: 2.0110 - accuracy: 0.3936\n",
      "Epoch 78/100\n",
      "6/6 [==============================] - 0s 11ms/step - loss: 1.9924 - accuracy: 0.4036\n",
      "Epoch 79/100\n",
      "6/6 [==============================] - 0s 11ms/step - loss: 2.0028 - accuracy: 0.4036\n",
      "Epoch 80/100\n",
      "6/6 [==============================] - 0s 13ms/step - loss: 1.9989 - accuracy: 0.4036\n",
      "Epoch 81/100\n",
      "6/6 [==============================] - 0s 11ms/step - loss: 1.9835 - accuracy: 0.4009\n",
      "Epoch 82/100\n",
      "6/6 [==============================] - 0s 12ms/step - loss: 2.0053 - accuracy: 0.3936\n",
      "Epoch 83/100\n",
      "6/6 [==============================] - 0s 12ms/step - loss: 1.9821 - accuracy: 0.3991\n",
      "Epoch 84/100\n",
      "6/6 [==============================] - 0s 12ms/step - loss: 1.9572 - accuracy: 0.4173\n",
      "Epoch 85/100\n",
      "6/6 [==============================] - 0s 12ms/step - loss: 1.9535 - accuracy: 0.4109\n",
      "Epoch 86/100\n",
      "6/6 [==============================] - 0s 12ms/step - loss: 1.9311 - accuracy: 0.4164\n",
      "Epoch 87/100\n",
      "6/6 [==============================] - 0s 12ms/step - loss: 1.9213 - accuracy: 0.4182\n",
      "Epoch 88/100\n",
      "6/6 [==============================] - 0s 12ms/step - loss: 1.9047 - accuracy: 0.4282\n",
      "Epoch 89/100\n",
      "6/6 [==============================] - 0s 12ms/step - loss: 1.8930 - accuracy: 0.4327\n",
      "Epoch 90/100\n",
      "6/6 [==============================] - 0s 12ms/step - loss: 1.8811 - accuracy: 0.4336\n",
      "Epoch 91/100\n",
      "6/6 [==============================] - 0s 13ms/step - loss: 1.8755 - accuracy: 0.4445\n",
      "Epoch 92/100\n",
      "6/6 [==============================] - 0s 14ms/step - loss: 1.8876 - accuracy: 0.4364\n",
      "Epoch 93/100\n",
      "6/6 [==============================] - 0s 18ms/step - loss: 1.9275 - accuracy: 0.4200\n",
      "Epoch 94/100\n",
      "6/6 [==============================] - 0s 12ms/step - loss: 2.0146 - accuracy: 0.4027\n",
      "Epoch 95/100\n",
      "6/6 [==============================] - 0s 12ms/step - loss: 2.0185 - accuracy: 0.3955\n",
      "Epoch 96/100\n",
      "6/6 [==============================] - 0s 12ms/step - loss: 1.9751 - accuracy: 0.4100\n"
     ]
    },
    {
     "data": {
      "text/plain": [
       "<keras.src.callbacks.History at 0x7fad089d6640>"
      ]
     },
     "execution_count": 36,
     "metadata": {},
     "output_type": "execute_result"
    }
   ],
   "source": [
    "# Définir le modèle LSTM\n",
    "model = Sequential()\n",
    "model.add(LSTM(64, input_shape=(50, 6), return_sequences=True))\n",
    "model.add(Dense(len(label_encoder.classes_), activation='softmax'))\n",
    "\n",
    "# Compiler le modèle\n",
    "model.compile(loss='sparse_categorical_crossentropy', optimizer='adam', metrics=['accuracy'])\n",
    "\n",
    "# Early stopping pour éviter le surapprentissage\n",
    "early_stopping = EarlyStopping(monitor='loss', patience=5, restore_best_weights=True)\n",
    "\n",
    "# Entraîner le modèle\n",
    "model.fit(X_data, y_data, epochs=100, batch_size=4, callbacks=[early_stopping])\n"
   ]
  },
  {
   "cell_type": "code",
   "execution_count": 37,
   "metadata": {},
   "outputs": [
    {
     "name": "stdout",
     "output_type": "stream",
     "text": [
      "WARNING:tensorflow:5 out of the last 5 calls to <function Model.make_predict_function.<locals>.predict_function at 0x7fad08b4a0d0> triggered tf.function retracing. Tracing is expensive and the excessive number of tracings could be due to (1) creating @tf.function repeatedly in a loop, (2) passing tensors with different shapes, (3) passing Python objects instead of tensors. For (1), please define your @tf.function outside of the loop. For (2), @tf.function has reduce_retracing=True option that can avoid unnecessary retracing. For (3), please refer to https://www.tensorflow.org/guide/function#controlling_retracing and https://www.tensorflow.org/api_docs/python/tf/function for  more details.\n",
      "1/1 [==============================] - 0s 331ms/step\n"
     ]
    },
    {
     "data": {
      "image/png": "[encoded data removed]",
      "text/plain": [
       "<Figure size 640x480 with 1 Axes>"
      ]
     },
     "metadata": {},
     "output_type": "display_data"
    },
    {
     "name": "stdout",
     "output_type": "stream",
     "text": [
      "Le pilote dominant pour Bahrain Grand Prix est : 1\n"
     ]
    }
   ],
   "source": [
    "# Sélectionner un circuit spécifique pour la prédiction (ex: \"Bahrain Grand Prix\")\n",
    "grand_prix_name = \"Bahrain Grand Prix\"\n",
    "grand_prix_num = gp_encoder.transform([grand_prix_name])[0]\n",
    "\n",
    "# Filtrer uniquement ce circuit\n",
    "df_gp = df[df['Grand Prix'] == grand_prix_num].reset_index(drop=True)\n",
    "\n",
    "# Vérifier s'il y a 50 sections pour ce circuit\n",
    "if df_gp.shape[0] < 50:\n",
    "    raise ValueError(\"Il y a moins de 50 sections pour ce Grand Prix !\")\n",
    "\n",
    "df_gp_50 = df_gp.iloc[:50]  # Sélectionner les 50 premières sections\n",
    "\n",
    "# Sélectionner les features d'entrée\n",
    "input_features_test = df_gp_50[['X', 'Y', 'Angle', 'Straight_Line', 'Speed', 'Grand Prix']].fillna(0)\n",
    "\n",
    "# Normaliser les données d'entrée avec le scaler entraîné\n",
    "input_features_scaled_test = scaler.transform(input_features_test)\n",
    "\n",
    "# Reshape pour correspondre au format LSTM\n",
    "X_test = input_features_scaled_test.reshape(1, 50, 6)  # 1 circuit, 50 sections, 6 features\n",
    "\n",
    "# Faire des prédictions\n",
    "y_pred = model.predict(X_test)\n",
    "y_pred_classes = y_pred.argmax(axis=-1).flatten()\n",
    "\n",
    "# Décoder les prédictions pour obtenir les noms/numéros des pilotes\n",
    "y_pred_drivers = label_encoder.inverse_transform(y_pred_classes)\n",
    "\n",
    "# Calculer la fréquence des meilleurs pilotes\n",
    "unique, counts = np.unique(y_pred_drivers, return_counts=True)\n",
    "driver_counts = dict(zip(unique, counts))\n",
    "\n",
    "# Afficher les résultats\n",
    "plt.bar(driver_counts.keys(), driver_counts.values())\n",
    "plt.xlabel('Pilotes')\n",
    "plt.ylabel('Nombre de Sections où Meilleur')\n",
    "plt.title(f'Fréquence des Meilleurs Pilotes par Section ({grand_prix_name})')\n",
    "plt.show()\n",
    "\n",
    "# Pilote dominant\n",
    "dominant_driver = max(driver_counts, key=driver_counts.get)\n",
    "print(f\"Le pilote dominant pour {grand_prix_name} est : {dominant_driver}\")\n"
   ]
  },
  {
   "cell_type": "code",
   "execution_count": null,
   "metadata": {},
   "outputs": [],
   "source": []
  }
 ],
 "metadata": {
  "kernelspec": {
   "display_name": "TF2",
   "language": "python",
   "name": "python3"
  },
  "language_info": {
   "codemirror_mode": {
    "name": "ipython",
    "version": 3
   },
   "file_extension": ".py",
   "mimetype": "text/x-python",
   "name": "python",
   "nbconvert_exporter": "python",
   "pygments_lexer": "ipython3",
   "version": "3.9.16"
  }
 },
 "nbformat": 4,
 "nbformat_minor": 2
}
