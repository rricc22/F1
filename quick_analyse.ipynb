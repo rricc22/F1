{
 "cells": [
  {
   "cell_type": "code",
   "execution_count": 32,
   "metadata": {},
   "outputs": [
    {
     "name": "stderr",
     "output_type": "stream",
     "text": [
      "2024-11-14 10:13:17.477964: I tensorflow/tsl/cuda/cudart_stub.cc:28] Could not find cuda drivers on your machine, GPU will not be used.\n",
      "2024-11-14 10:13:17.624357: I tensorflow/tsl/cuda/cudart_stub.cc:28] Could not find cuda drivers on your machine, GPU will not be used.\n",
      "2024-11-14 10:13:17.625378: I tensorflow/core/platform/cpu_feature_guard.cc:182] This TensorFlow binary is optimized to use available CPU instructions in performance-critical operations.\n",
      "To enable the following instructions: AVX2 FMA, in other operations, rebuild TensorFlow with the appropriate compiler flags.\n",
      "2024-11-14 10:13:18.742967: W tensorflow/compiler/tf2tensorrt/utils/py_utils.cc:38] TF-TRT Warning: Could not find TensorRT\n"
     ]
    }
   ],
   "source": [
    "import pandas as pd\n",
    "import numpy as np\n",
    "import fastf1\n",
    "import matplotlib.pyplot as plt\n",
    "import tensorflow as tf\n",
    "from sklearn.model_selection import train_test_split\n",
    "from sklearn.preprocessing import StandardScaler"
   ]
  },
  {
   "cell_type": "code",
   "execution_count": 33,
   "metadata": {},
   "outputs": [],
   "source": [
    "df = pd.read_csv('/home/riccardo/Documents/F1/dataset_plus_strait_lines_win.csv')\n",
    "df = df.drop('Unnamed: 0',axis=1)"
   ]
  },
  {
   "cell_type": "markdown",
   "metadata": {},
   "source": [
    "# Perceptron 64-32-1"
   ]
  },
  {
   "cell_type": "code",
   "execution_count": null,
   "metadata": {},
   "outputs": [],
   "source": [
    "# Préparation des données\n",
    "features = df[['X', 'Y', 'Angle', 'Straight_Line', 'Speed']].fillna(0)  # Remplir les NaN avec 0 ou une autre valeur\n",
    "target = df['WIN']"
   ]
  },
  {
   "cell_type": "code",
   "execution_count": 34,
   "metadata": {},
   "outputs": [],
   "source": [
    "# Normaliser les features\n",
    "scaler = StandardScaler()\n",
    "features = scaler.fit_transform(features)"
   ]
  },
  {
   "cell_type": "code",
   "execution_count": 35,
   "metadata": {},
   "outputs": [],
   "source": [
    "# Diviser les données en ensemble d'entraînement et de test\n",
    "X_train, X_test, y_train, y_test = train_test_split(features, target, test_size=0.2, random_state=42)"
   ]
  },
  {
   "cell_type": "code",
   "execution_count": 36,
   "metadata": {},
   "outputs": [],
   "source": [
    "# Construction du modèle\n",
    "model = tf.keras.models.Sequential([\n",
    "    tf.keras.layers.Dense(64, activation='relu', input_shape=(X_train.shape[1],)),\n",
    "    tf.keras.layers.Dense(32, activation='relu'),\n",
    "    tf.keras.layers.Dense(1, activation='sigmoid')  # Activation sigmoïde pour la classification binaire\n",
    "])"
   ]
  },
  {
   "cell_type": "code",
   "execution_count": 37,
   "metadata": {},
   "outputs": [],
   "source": [
    "# Compilation du modèle\n",
    "model.compile(optimizer='adam',\n",
    "              loss='binary_crossentropy',\n",
    "              metrics=['accuracy'])"
   ]
  },
  {
   "cell_type": "code",
   "execution_count": 38,
   "metadata": {},
   "outputs": [
    {
     "name": "stdout",
     "output_type": "stream",
     "text": [
      "Epoch 1/10\n",
      "22/22 [==============================] - 1s 10ms/step - loss: -0.5911 - accuracy: 0.8082 - val_loss: -2.9736 - val_accuracy: 0.8693\n",
      "Epoch 2/10\n",
      "22/22 [==============================] - 0s 5ms/step - loss: -3.2657 - accuracy: 0.8679 - val_loss: -6.7358 - val_accuracy: 0.8693\n",
      "Epoch 3/10\n",
      "22/22 [==============================] - 0s 2ms/step - loss: -6.8220 - accuracy: 0.8679 - val_loss: -12.9261 - val_accuracy: 0.8693\n",
      "Epoch 4/10\n",
      "22/22 [==============================] - 0s 3ms/step - loss: -12.5796 - accuracy: 0.8679 - val_loss: -22.5141 - val_accuracy: 0.8693\n",
      "Epoch 5/10\n",
      "22/22 [==============================] - 0s 3ms/step - loss: -21.4413 - accuracy: 0.8679 - val_loss: -37.3625 - val_accuracy: 0.8693\n",
      "Epoch 6/10\n",
      "22/22 [==============================] - 0s 3ms/step - loss: -34.7445 - accuracy: 0.8679 - val_loss: -59.0508 - val_accuracy: 0.8693\n",
      "Epoch 7/10\n",
      "22/22 [==============================] - 0s 3ms/step - loss: -52.8681 - accuracy: 0.8679 - val_loss: -90.1402 - val_accuracy: 0.8693\n",
      "Epoch 8/10\n",
      "22/22 [==============================] - 0s 3ms/step - loss: -80.0137 - accuracy: 0.8679 - val_loss: -131.6345 - val_accuracy: 0.8693\n",
      "Epoch 9/10\n",
      "22/22 [==============================] - 0s 2ms/step - loss: -115.9840 - accuracy: 0.8679 - val_loss: -185.2795 - val_accuracy: 0.8693\n",
      "Epoch 10/10\n",
      "22/22 [==============================] - 0s 2ms/step - loss: -162.4140 - accuracy: 0.8679 - val_loss: -256.2148 - val_accuracy: 0.8693\n"
     ]
    },
    {
     "data": {
      "text/plain": [
       "<keras.src.callbacks.History at 0x7f068e1b47f0>"
      ]
     },
     "execution_count": 38,
     "metadata": {},
     "output_type": "execute_result"
    }
   ],
   "source": [
    "# Entraînement du modèle\n",
    "model.fit(X_train, y_train, epochs=10, batch_size=32, validation_split=0.2)"
   ]
  },
  {
   "cell_type": "code",
   "execution_count": null,
   "metadata": {},
   "outputs": [
    {
     "name": "stdout",
     "output_type": "stream",
     "text": [
      "7/7 [==============================] - 0s 2ms/step - loss: -260.7820 - accuracy: 0.8455\n",
      "Accuracy: 84.55%\n"
     ]
    }
   ],
   "source": [
    "# Évaluation du modèle\n",
    "loss, accuracy = model.evaluate(X_test, y_test)\n",
    "print(f\"Accuracy: {accuracy * 100:.2f}%\")"
   ]
  },
  {
   "cell_type": "markdown",
   "metadata": {},
   "source": [
    "# model 2 "
   ]
  },
  {
   "cell_type": "markdown",
   "metadata": {},
   "source": []
  }
 ],
 "metadata": {
  "kernelspec": {
   "display_name": "TF2",
   "language": "python",
   "name": "python3"
  },
  "language_info": {
   "codemirror_mode": {
    "name": "ipython",
    "version": 3
   },
   "file_extension": ".py",
   "mimetype": "text/x-python",
   "name": "python",
   "nbconvert_exporter": "python",
   "pygments_lexer": "ipython3",
   "version": "3.9.16"
  }
 },
 "nbformat": 4,
 "nbformat_minor": 2
}
