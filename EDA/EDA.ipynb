{
 "cells": [
  {
   "cell_type": "code",
   "execution_count": 47,
   "metadata": {},
   "outputs": [],
   "source": [
    "import numpy as np \n",
    "import pandas as pd \n",
    "import matplotlib.pyplot as plt\n",
    "import seaborn as sn "
   ]
  },
  {
   "cell_type": "code",
   "execution_count": 58,
   "metadata": {},
   "outputs": [],
   "source": [
    "df = pd.read_csv('/home/riccardo/Visual_Studio_Code/F1/dataset/dataset_best_driver.csv')"
   ]
  },
  {
   "cell_type": "code",
   "execution_count": 59,
   "metadata": {},
   "outputs": [],
   "source": [
    "df = df.drop(['Unnamed: 0','X','Y'], axis = 1)"
   ]
  },
  {
   "cell_type": "code",
   "execution_count": 52,
   "metadata": {},
   "outputs": [
    {
     "name": "stdout",
     "output_type": "stream",
     "text": [
      "                              Angle  Straight_Line   Speed\n",
      "Grand Prix                                                \n",
      "Abu Dhabi Grand Prix      75.708125    4220.033333  217.36\n",
      "Australian Grand Prix     59.423571    1947.687500  232.86\n",
      "Austrian Grand Prix       74.049000    3372.432432  226.74\n",
      "Azerbaijan Grand Prix     47.855882    3918.368421  203.60\n",
      "Bahrain Grand Prix        79.109286    4071.575758  199.98\n",
      "Belgian Grand Prix        67.901667    2282.911765  229.52\n",
      "British Grand Prix        62.698889    3234.652174  230.96\n",
      "Canadian Grand Prix       54.487143    4073.117647  202.30\n",
      "Dutch Grand Prix          83.040714    1588.500000  206.44\n",
      "Hungarian Grand Prix      75.921875    1860.357143  195.60\n",
      "Italian Grand Prix        47.929091    4766.114286  243.28\n",
      "Japanese Grand Prix       67.428333    3380.928571  221.74\n",
      "Las Vegas Grand Prix      61.772353    7486.935484  231.16\n",
      "Mexico City Grand Prix    68.558667    5592.840000  186.36\n",
      "Miami Grand Prix          60.761111    5507.454545  214.80\n",
      "Monaco Grand Prix         67.260000    1461.500000  155.30\n",
      "Qatar Grand Prix          79.233750    2472.343750  230.38\n",
      "Saudi Arabian Grand Prix  40.895000    2584.478261  241.40\n",
      "Singapore Grand Prix      61.014211    2305.222222  179.10\n",
      "Spanish Grand Prix        67.824286    2968.818182  220.40\n",
      "São Paulo Grand Prix      78.112667    3959.400000  207.64\n",
      "United States Grand Prix  75.871579    4507.896552  196.00\n"
     ]
    }
   ],
   "source": [
    "# Group by Grand Prix to analyze average values\n",
    "grouped_stats = df.groupby(\"Grand Prix\")[[\"Angle\", \"Straight_Line\", \"Speed\"]].mean()\n",
    "print(grouped_stats)"
   ]
  },
  {
   "cell_type": "code",
   "execution_count": 60,
   "metadata": {},
   "outputs": [],
   "source": [
    "# Create a mapping of Grand Prix names to numbers\n",
    "grand_prix_list = df[\"Grand Prix\"].unique()\n",
    "grand_prix_mapping = {name: idx + 1 for idx, name in enumerate(grand_prix_list)}\n",
    "\n",
    "# Replace Grand Prix names with corresponding numbers\n",
    "df[\"Grand Prix\"] = df[\"Grand Prix\"].map(grand_prix_mapping)"
   ]
  },
  {
   "cell_type": "code",
   "execution_count": 63,
   "metadata": {},
   "outputs": [
    {
     "data": {
      "text/html": [
       "<div>\n",
       "<style scoped>\n",
       "    .dataframe tbody tr th:only-of-type {\n",
       "        vertical-align: middle;\n",
       "    }\n",
       "\n",
       "    .dataframe tbody tr th {\n",
       "        vertical-align: top;\n",
       "    }\n",
       "\n",
       "    .dataframe thead th {\n",
       "        text-align: right;\n",
       "    }\n",
       "</style>\n",
       "<table border=\"1\" class=\"dataframe\">\n",
       "  <thead>\n",
       "    <tr style=\"text-align: right;\">\n",
       "      <th></th>\n",
       "      <th>Angle</th>\n",
       "      <th>Straight_Line</th>\n",
       "      <th>Speed</th>\n",
       "    </tr>\n",
       "  </thead>\n",
       "  <tbody>\n",
       "    <tr>\n",
       "      <th>Angle</th>\n",
       "      <td>1.000000</td>\n",
       "      <td>-0.165553</td>\n",
       "      <td>-0.282257</td>\n",
       "    </tr>\n",
       "    <tr>\n",
       "      <th>Straight_Line</th>\n",
       "      <td>-0.165553</td>\n",
       "      <td>1.000000</td>\n",
       "      <td>0.173587</td>\n",
       "    </tr>\n",
       "    <tr>\n",
       "      <th>Speed</th>\n",
       "      <td>-0.282257</td>\n",
       "      <td>0.173587</td>\n",
       "      <td>1.000000</td>\n",
       "    </tr>\n",
       "  </tbody>\n",
       "</table>\n",
       "</div>"
      ],
      "text/plain": [
       "                  Angle  Straight_Line     Speed\n",
       "Angle          1.000000      -0.165553 -0.282257\n",
       "Straight_Line -0.165553       1.000000  0.173587\n",
       "Speed         -0.282257       0.173587  1.000000"
      ]
     },
     "execution_count": 63,
     "metadata": {},
     "output_type": "execute_result"
    }
   ],
   "source": [
    "grouped_stats.corr()"
   ]
  },
  {
   "cell_type": "code",
   "execution_count": null,
   "metadata": {},
   "outputs": [
    {
     "name": "stdout",
     "output_type": "stream",
     "text": [
      "     Angle          Grand Prix  Straight_Line  Speed  WIN  Best_Driver\n",
      "0      NaN  Bahrain Grand Prix         6297.0  285.0    1           22\n",
      "1      NaN  Bahrain Grand Prix         6297.0  296.0    1           10\n",
      "2      NaN  Bahrain Grand Prix         6297.0  302.0    1           10\n",
      "3      NaN  Bahrain Grand Prix         6297.0  305.0    1           22\n",
      "4      NaN  Bahrain Grand Prix         6297.0  145.0    1           24\n",
      "5   114.34  Bahrain Grand Prix            NaN   77.0    1           16\n",
      "6      NaN  Bahrain Grand Prix            NaN   78.0    1           14\n",
      "7    47.49  Bahrain Grand Prix            NaN  139.0    1           44\n",
      "8    10.77  Bahrain Grand Prix            NaN  203.0    1           18\n",
      "9      NaN  Bahrain Grand Prix         4056.0  246.0    1           18\n",
      "10     NaN  Bahrain Grand Prix         4056.0  271.0    1           81\n",
      "11     NaN  Bahrain Grand Prix         4056.0  277.0    1           23\n",
      "12     NaN  Bahrain Grand Prix         4056.0  143.0    1           20\n",
      "13  114.21  Bahrain Grand Prix         4056.0  122.0    1            1\n",
      "14     NaN  Bahrain Grand Prix          213.0  178.0    1            1\n",
      "15     NaN  Bahrain Grand Prix            0.0  221.0    1           24\n",
      "16   35.32  Bahrain Grand Prix            NaN  181.0    1           21\n",
      "17   37.03  Bahrain Grand Prix            NaN  196.0    1            4\n",
      "18     NaN  Bahrain Grand Prix          213.0  214.0    1            2\n",
      "19     NaN  Bahrain Grand Prix            NaN  160.0    1           21\n",
      "20  116.61  Bahrain Grand Prix            NaN   80.0    1            1\n",
      "21     NaN  Bahrain Grand Prix            NaN   85.0    1            1\n",
      "22     NaN  Bahrain Grand Prix         1601.0  149.0    1           44\n",
      "23     NaN  Bahrain Grand Prix         1601.0  207.0    1            4\n",
      "24   85.89  Bahrain Grand Prix         1601.0  238.0    1           11\n",
      "25  135.02  Bahrain Grand Prix         1601.0  112.0    1           16\n",
      "26     NaN  Bahrain Grand Prix         1601.0   80.0    1           23\n",
      "27     NaN  Bahrain Grand Prix         5549.0  139.0    1           23\n",
      "28     NaN  Bahrain Grand Prix         5549.0  229.0    1           23\n",
      "29     NaN  Bahrain Grand Prix         5549.0  264.0    1           81\n",
      "30     NaN  Bahrain Grand Prix         5549.0  278.0    1           22\n",
      "31     NaN  Bahrain Grand Prix         5549.0  244.0    1           21\n",
      "32  109.38  Bahrain Grand Prix            NaN  156.0    1           11\n",
      "33     NaN  Bahrain Grand Prix            NaN  201.0    1            4\n",
      "34     NaN  Bahrain Grand Prix            NaN  246.0    1            4\n",
      "35   68.09  Bahrain Grand Prix            NaN  238.0    1           24\n",
      "36     NaN  Bahrain Grand Prix          320.0  246.0    1           24\n",
      "37     NaN  Bahrain Grand Prix            NaN  160.0    1           16\n",
      "38   92.54  Bahrain Grand Prix            NaN  145.0    1            1\n",
      "39     NaN  Bahrain Grand Prix         5976.0  194.0    1            1\n",
      "40     NaN  Bahrain Grand Prix         5976.0  228.0    1            1\n",
      "41     NaN  Bahrain Grand Prix         5976.0  260.0    1           63\n",
      "42     NaN  Bahrain Grand Prix         5976.0  281.0    1           23\n",
      "43     NaN  Bahrain Grand Prix         5976.0  290.0    1            2\n",
      "44     NaN  Bahrain Grand Prix         5976.0  223.0    1           11\n",
      "45   89.14  Bahrain Grand Prix            NaN  125.0    1            1\n",
      "46   51.70  Bahrain Grand Prix            NaN  136.0    1            1\n",
      "47     NaN  Bahrain Grand Prix         3415.0  215.0    1            1\n",
      "48     NaN  Bahrain Grand Prix         3415.0  239.0    1           23\n",
      "49     NaN  Bahrain Grand Prix         3415.0  272.0    1           23\n"
     ]
    }
   ],
   "source": [
    "for i in df['Grand Prix'].unique():\n",
    "    # print(i)\n",
    "    print(df[df['Grand Prix'] == i ])\n",
    "    \n",
    "    break\n",
    "    # df[i]"
   ]
  },
  {
   "cell_type": "code",
   "execution_count": 46,
   "metadata": {},
   "outputs": [
    {
     "ename": "ModuleNotFoundError",
     "evalue": "No module named 'ace_tools'",
     "output_type": "error",
     "traceback": [
      "\u001b[0;31m---------------------------------------------------------------------------\u001b[0m",
      "\u001b[0;31mModuleNotFoundError\u001b[0m                       Traceback (most recent call last)",
      "Cell \u001b[0;32mIn[46], line 14\u001b[0m\n\u001b[1;32m     11\u001b[0m correlation_matrix \u001b[38;5;241m=\u001b[39m numeric_df\u001b[38;5;241m.\u001b[39mcorr()\n\u001b[1;32m     13\u001b[0m \u001b[38;5;66;03m# Display results\u001b[39;00m\n\u001b[0;32m---> 14\u001b[0m \u001b[38;5;28;01mimport\u001b[39;00m \u001b[38;5;21;01mace_tools\u001b[39;00m \u001b[38;5;28;01mas\u001b[39;00m \u001b[38;5;21;01mtools\u001b[39;00m\n\u001b[1;32m     15\u001b[0m tools\u001b[38;5;241m.\u001b[39mdisplay_dataframe_to_user(name\u001b[38;5;241m=\u001b[39m\u001b[38;5;124m\"\u001b[39m\u001b[38;5;124mSummary Statistics\u001b[39m\u001b[38;5;124m\"\u001b[39m, dataframe\u001b[38;5;241m=\u001b[39mstats_summary)\n\u001b[1;32m     16\u001b[0m tools\u001b[38;5;241m.\u001b[39mdisplay_dataframe_to_user(name\u001b[38;5;241m=\u001b[39m\u001b[38;5;124m\"\u001b[39m\u001b[38;5;124mGrouped Statistics by Grand Prix\u001b[39m\u001b[38;5;124m\"\u001b[39m, dataframe\u001b[38;5;241m=\u001b[39mgrouped_stats)\n",
      "\u001b[0;31mModuleNotFoundError\u001b[0m: No module named 'ace_tools'"
     ]
    }
   ],
   "source": [
    "# Drop non-numeric columns\n",
    "numeric_df = df.select_dtypes(include=[np.number])\n",
    "\n",
    "# Summary statistics for numeric columns\n",
    "stats_summary = numeric_df.describe()\n",
    "\n",
    "# Group by Grand Prix to analyze average values\n",
    "grouped_stats = df.groupby(\"Grand Prix\")[[\"Angle\", \"Straight_Line\", \"Speed\"]].mean()\n",
    "\n",
    "# Correlation matrix for numeric columns\n",
    "correlation_matrix = numeric_df.corr()\n",
    "\n",
    "# Display results\n",
    "import ace_tools as tools\n",
    "tools.display_dataframe_to_user(name=\"Summary Statistics\", dataframe=stats_summary)\n",
    "tools.display_dataframe_to_user(name=\"Grouped Statistics by Grand Prix\", dataframe=grouped_stats)\n",
    "tools.display_dataframe_to_user(name=\"Correlation Matrix\", dataframe=correlation_matrix)\n"
   ]
  },
  {
   "cell_type": "code",
   "execution_count": null,
   "metadata": {},
   "outputs": [],
   "source": []
  }
 ],
 "metadata": {
  "kernelspec": {
   "display_name": "py39_tf211",
   "language": "python",
   "name": "python3"
  },
  "language_info": {
   "codemirror_mode": {
    "name": "ipython",
    "version": 3
   },
   "file_extension": ".py",
   "mimetype": "text/x-python",
   "name": "python",
   "nbconvert_exporter": "python",
   "pygments_lexer": "ipython3",
   "version": "3.9.18"
  }
 },
 "nbformat": 4,
 "nbformat_minor": 2
}
